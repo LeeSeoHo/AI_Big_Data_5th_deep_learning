{
 "cells": [
  {
   "cell_type": "markdown",
   "metadata": {},
   "source": [
    "# MNIST"
   ]
  },
  {
   "cell_type": "markdown",
   "metadata": {},
   "source": [
    "### MNIST 데이터 받기"
   ]
  },
  {
   "cell_type": "code",
   "execution_count": null,
   "metadata": {},
   "outputs": [],
   "source": [
    "import os\n",
    "import sys\n",
    "import numpy as np\n",
    "%matplotlib inline\n",
    "import matplotlib.pyplot as plt\n",
    "import tensorflow as tf\n",
    "from tensorflow.examples.tutorials.mnist import input_data\n",
    "\n",
    "mnist = input_data.read_data_sets(\"data/\", one_hot=True)\n",
    "train_data = mnist.train.images\n",
    "train_label = mnist.train.labels\n",
    "test_data = mnist.test.images\n",
    "test_label = mnist.test.labels"
   ]
  },
  {
   "cell_type": "markdown",
   "metadata": {},
   "source": [
    "### MNIST 데이터 확인하기"
   ]
  },
  {
   "cell_type": "code",
   "execution_count": null,
   "metadata": {},
   "outputs": [],
   "source": [
    "# size of MNIST\n",
    "print(train_data.shape)\n",
    "print(train_label.shape)\n",
    "print(test_data.shape)\n",
    "print(test_label.shape)"
   ]
  },
  {
   "cell_type": "markdown",
   "metadata": {},
   "source": [
    "### Data Pre-processing (데이터 전처리)"
   ]
  },
  {
   "cell_type": "markdown",
   "metadata": {},
   "source": [
    "# Implementation (1)\n",
    "\n",
    "\n",
    "## Loss function (손실 함수) : Cross Entropy\n",
    "\n",
    "# <center> \\\\( L(y_i, f(x_i; W)) = -\\frac{1}{n}\\sum_{i=1}^{n}\\sum_{k=1} y_{i,j} log(f(x_i)_k)\\\\)</center>\n",
    "\n",
    "\n",
    "#### get_cross_entropy_loss 함수의 내용을 완성하세요.\n",
    "#### (Hint : (1) tf.reduce_mean(), tf.reduce_sum(), tf.log() (2) Tensor dimension에 유의 (3) log 함수 사용 시 epsilon 사용하세요.)"
   ]
  },
  {
   "cell_type": "code",
   "execution_count": null,
   "metadata": {},
   "outputs": [],
   "source": [
    "def get_cross_entropy_loss(y_true, y_hat, epsilon=1e-8):\n",
    "    \"\"\"\n",
    "    compute cross entropy\n",
    "\n",
    "    Args:\n",
    "        y_true: true label\n",
    "        y_hat: predicted label\n",
    "        epsilon: small value to prevent NaN in log\n",
    "\n",
    "    Returns:\n",
    "        cross entropy loss\n",
    "    \"\"\"\n",
    "    with tf.name_scope('cross_entropy'):\n",
    "        ###################################################################\n",
    "        #                    Implementation 1                             #\n",
    "        ###################################################################\n",
    "        \n",
    "\n",
    "def get_accuracy(y_true, y_hat):\n",
    "    \"\"\"\n",
    "    compute cross entropy\n",
    "\n",
    "    Args:\n",
    "        y_true: true label\n",
    "        y_hat: predicted label\n",
    "        epsilon: small value to prevent NaN in log\n",
    "\n",
    "    Returns:\n",
    "        cross entropy loss\n",
    "    \"\"\"\n",
    "    with tf.name_scope('accuracy'):\n",
    "        # Compare the highest indices between the predicted label and the true label\n",
    "        correct_prediction = tf.equal(tf.argmax(y_hat, 1), tf.argmax(y_true, 1), name='correct_prediction')\n",
    "        # Compute accuracy\n",
    "        accuracy = tf.reduce_mean(tf.cast(correct_prediction, tf.float32), name='accuracy')\n",
    "    return accuracy"
   ]
  },
  {
   "cell_type": "markdown",
   "metadata": {},
   "source": [
    "## Hyper-parameter (하이퍼 파라미터)"
   ]
  },
  {
   "cell_type": "code",
   "execution_count": null,
   "metadata": {},
   "outputs": [],
   "source": [
    "# Set hypyerparameters\n",
    "learning_rate = 0.01\n",
    "max_iter = 2000\n",
    "batch_size = 100"
   ]
  },
  {
   "cell_type": "markdown",
   "metadata": {},
   "source": [
    "# Implementation (2)\n",
    "## Linear Classifier (선형 분류기)\n",
    "\n",
    "## <center> \\\\( f(x) = W^Tx+b \\\\)</center>\n",
    "\n",
    "### linear function을 완성하세요.\n",
    "### (Hint : (1) weight, bias 선언 (2) tf.get_variable()의 initializer  (3) tf.matmul())"
   ]
  },
  {
   "cell_type": "code",
   "execution_count": null,
   "metadata": {},
   "outputs": [],
   "source": [
    "def fc(name, out_dim, inputs):\n",
    "    \"\"\"\n",
    "    Args :\n",
    "        Inputs : Input tensor\n",
    "        out_dim : output dimension\n",
    "        \n",
    "    Returns:\n",
    "        inputs * weight + bias\n",
    "    \"\"\"\n",
    "    with tf.name_scope('linear_classifier'):\n",
    "        ###################################################################\n",
    "        #                    Implementation 2                             #\n",
    "        ###################################################################\n",
    "        \n",
    "\n"
   ]
  },
  {
   "cell_type": "markdown",
   "metadata": {},
   "source": [
    "# Implementation (3)\n",
    "\n",
    "## Model Setting\n",
    "\n",
    "### 1. Training data 및 Test data의 각각의 image를 한 vector로 만들어서 train_data, test_data에 각각 저장하세요.\n",
    "#### Hint) 데이터 차원.\n",
    "### 2. Dataset로부터 받은 데이터(Image, label)를 담을 변수를 각각 x 및 y_true에 선언하세요.\n",
    "#### Hint) tf.placeholder\n",
    "### 3. Implementation (2)에서 구현한 linear classifier 함수값과 softmax 함수를 통한 prediction 값을 y_hat에 저장하세요.\n",
    "#### Hint) tf.nn.softmax\n",
    "### 4. 3으로부터 얻은 결과를 통해 Implementation (1)에서 구현한 loss function을 통해 얻은 loss를 cross_entropy에 저장하세요."
   ]
  },
  {
   "cell_type": "code",
   "execution_count": null,
   "metadata": {},
   "outputs": [],
   "source": [
    "tf.reset_default_graph()\n",
    "# Flatten data\n",
    "###################################################################\n",
    "#                    Implementation 3-1                           #\n",
    "###################################################################\n",
    "train_data = None\n",
    "test_data = None\n",
    "\n",
    "###################################################################\n",
    "#                    Implementation 3-2                           #\n",
    "###################################################################\n",
    "x = None\n",
    "y_true = None\n",
    "\n",
    "###################################################################\n",
    "#                    Implementation 3-3                          #\n",
    "###################################################################\n",
    "y_logits = None\n",
    "y_hat = None\n",
    "\n",
    "###################################################################\n",
    "#                    Implementation 3-4                           #\n",
    "###################################################################\n",
    "cross_entropy = None\n",
    "\n",
    "# Calculate accuracy\n",
    "accuracy = get_accuracy(y_true, y_hat)\n",
    "# Make gradient descent op\n",
    "train_step = tf.train.GradientDescentOptimizer(learning_rate).minimize(cross_entropy)\n",
    "\n",
    "# Make op to initialize declared variable\n",
    "init = tf.global_variables_initializer()\n",
    "\n",
    "with tf.Session() as sess:\n",
    "    # Initialize variables\n",
    "    sess.run(init)\n",
    "    \n",
    "    # Training\n",
    "    for step in range(max_iter):\n",
    "        # Get batch data and label\n",
    "        batch_x, batch_y = mnist.train.next_batch(batch_size)\n",
    "        # train the network and calculate cross entropy\n",
    "        _, loss = sess.run([train_step, cross_entropy], feed_dict={x: batch_x, y_true: batch_y})\n",
    "        # calcualte accuracy\n",
    "        acc = sess.run(accuracy, feed_dict={x: test_data, y_true: test_label})\n",
    "        # print loss (cross entropy) and accuracy at every 10th step\n",
    "        if (step + 1) % 10 == 0:\n",
    "            print(\"{}th iteration, loss: {:.4f}, test accuracy: {:.4f}\".format(step + 1, loss, acc))"
   ]
  }
 ],
 "metadata": {
  "kernelspec": {
   "display_name": "Python 3",
   "language": "python",
   "name": "python3"
  },
  "language_info": {
   "codemirror_mode": {
    "name": "ipython",
    "version": 3
   },
   "file_extension": ".py",
   "mimetype": "text/x-python",
   "name": "python",
   "nbconvert_exporter": "python",
   "pygments_lexer": "ipython3",
   "version": "3.6.8"
  }
 },
 "nbformat": 4,
 "nbformat_minor": 2
}
