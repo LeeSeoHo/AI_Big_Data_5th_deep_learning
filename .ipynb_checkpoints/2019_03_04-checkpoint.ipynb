{
 "cells": [
  {
   "cell_type": "markdown",
   "metadata": {},
   "source": [
    "#### conda create --name tf tensorflow-gpu"
   ]
  },
  {
   "cell_type": "code",
   "execution_count": 1,
   "metadata": {},
   "outputs": [],
   "source": [
    "import numpy as np\n",
    "import tensorflow as tf"
   ]
  },
  {
   "cell_type": "code",
   "execution_count": 2,
   "metadata": {
    "collapsed": true
   },
   "outputs": [
    {
     "name": "stdout",
     "output_type": "stream",
     "text": [
      "# packages in environment at /home/pirl/anaconda3/envs/tf:\n",
      "#\n",
      "# Name                    Version                   Build  Channel\n",
      "_tflow_select             2.1.0                       gpu  \n",
      "absl-py                   0.7.0                    py36_0  \n",
      "astor                     0.7.1                    py36_0  \n",
      "backcall                  0.1.0                    py36_0  \n",
      "blas                      1.0                         mkl  \n",
      "bleach                    3.1.0                    pypi_0    pypi\n",
      "c-ares                    1.15.0               h7b6447c_1  \n",
      "ca-certificates           2019.1.23                     0  \n",
      "certifi                   2018.11.29               py36_0  \n",
      "cudatoolkit               9.2                           0  \n",
      "cudnn                     7.3.1                 cuda9.2_0  \n",
      "cupti                     9.2.148                       0  \n",
      "dbus                      1.13.6               h746ee38_0  \n",
      "decorator                 4.3.2                    py36_0  \n",
      "entrypoints               0.3                      py36_0  \n",
      "expat                     2.2.6                he6710b0_0  \n",
      "fontconfig                2.13.0               h9420a91_0  \n",
      "freetype                  2.9.1                h8a8886c_1  \n",
      "gast                      0.2.2                    py36_0  \n",
      "glib                      2.56.2               hd408876_0  \n",
      "gmp                       6.1.2                h6c8ec71_1  \n",
      "grpcio                    1.16.1           py36hf8bcb03_1  \n",
      "gst-plugins-base          1.14.0               hbbd80ab_1  \n",
      "gstreamer                 1.14.0               hb453b48_1  \n",
      "h5py                      2.9.0            py36h7918eee_0  \n",
      "hdf5                      1.10.4               hb1b8bf9_0  \n",
      "icu                       58.2                 h9c2bf20_1  \n",
      "intel-openmp              2019.1                      144  \n",
      "ipykernel                 5.1.0            py36h39e3cac_0  \n",
      "ipython                   7.3.0            py36h39e3cac_0  \n",
      "ipython_genutils          0.2.0                    py36_0  \n",
      "ipywidgets                7.4.2                    py36_0  \n",
      "jedi                      0.13.3                   py36_0  \n",
      "jinja2                    2.10                     py36_0  \n",
      "jpeg                      9b                   h024ee3a_2  \n",
      "jsonschema                2.6.0                    py36_0  \n",
      "jupyter                   1.0.0                    py36_7  \n",
      "jupyter_client            5.2.4                    py36_0  \n",
      "jupyter_console           6.0.0                    py36_0  \n",
      "jupyter_core              4.4.0                    py36_0  \n",
      "keras-applications        1.0.6                    py36_0  \n",
      "keras-preprocessing       1.0.5                    py36_0  \n",
      "libedit                   3.1.20181209         hc058e9b_0  \n",
      "libffi                    3.2.1                hd88cf55_4  \n",
      "libgcc-ng                 8.2.0                hdf63c60_1  \n",
      "libgfortran-ng            7.3.0                hdf63c60_0  \n",
      "libpng                    1.6.36               hbc83047_0  \n",
      "libprotobuf               3.6.1                hd408876_0  \n",
      "libsodium                 1.0.16               h1bed415_0  \n",
      "libstdcxx-ng              8.2.0                hdf63c60_1  \n",
      "libuuid                   1.0.3                h1bed415_2  \n",
      "libxcb                    1.13                 h1bed415_1  \n",
      "libxml2                   2.9.9                he19cac6_0  \n",
      "markdown                  3.0.1                    py36_0  \n",
      "markupsafe                1.1.1            py36h7b6447c_0  \n",
      "mistune                   0.8.4            py36h7b6447c_0  \n",
      "mkl                       2019.1                      144  \n",
      "mkl_fft                   1.0.10           py36ha843d7b_0  \n",
      "mkl_random                1.0.2            py36hd81dba3_0  \n",
      "nbconvert                 5.3.1                    py36_0  \n",
      "nbformat                  4.4.0                    py36_0  \n",
      "ncurses                   6.1                  he6710b0_1  \n",
      "notebook                  5.7.4                    py36_0  \n",
      "numpy                     1.16.2           py36h7e9f1db_0  \n",
      "numpy-base                1.16.2           py36hde5b4d6_0  \n",
      "openssl                   1.1.1b               h7b6447c_0  \n",
      "pandoc                    2.2.3.2                       0  \n",
      "pandocfilters             1.4.2                    py36_1  \n",
      "parso                     0.3.4                    py36_0  \n",
      "pcre                      8.42                 h439df22_0  \n",
      "pexpect                   4.6.0                    py36_0  \n",
      "pickleshare               0.7.5                    py36_0  \n",
      "pip                       19.0.3                   py36_0  \n",
      "prometheus_client         0.6.0                    py36_0  \n",
      "prompt_toolkit            2.0.9                    py36_0  \n",
      "protobuf                  3.6.1            py36he6710b0_0  \n",
      "ptyprocess                0.6.0                    py36_0  \n",
      "pygments                  2.3.1                    py36_0  \n",
      "pyqt                      5.9.2            py36h05f1152_2  \n",
      "python                    3.6.8                h0371630_0  \n",
      "python-dateutil           2.8.0                    py36_0  \n",
      "pyzmq                     18.0.0           py36he6710b0_0  \n",
      "qt                        5.9.7                h5867ecd_1  \n",
      "qtconsole                 4.4.3                    py36_0  \n",
      "readline                  7.0                  h7b6447c_5  \n",
      "scipy                     1.2.1            py36h7c811a0_0  \n",
      "send2trash                1.5.0                    py36_0  \n",
      "setuptools                40.8.0                   py36_0  \n",
      "sip                       4.19.8           py36hf484d3e_0  \n",
      "six                       1.12.0                   py36_0  \n",
      "sqlite                    3.26.0               h7b6447c_0  \n",
      "tensorboard               1.12.2           py36he6710b0_0  \n",
      "tensorflow                1.12.0          gpu_py36he74679b_0  \n",
      "tensorflow-base           1.12.0          gpu_py36had579c0_0  \n",
      "tensorflow-gpu            1.12.0               h0d30ee6_0  \n",
      "termcolor                 1.1.0                    py36_1  \n",
      "terminado                 0.8.1                    py36_1  \n",
      "testpath                  0.4.2                    py36_0  \n",
      "tk                        8.6.8                hbc83047_0  \n",
      "tornado                   5.1.1            py36h7b6447c_0  \n",
      "traitlets                 4.3.2                    py36_0  \n",
      "wcwidth                   0.1.7                    py36_0  \n",
      "webencodings              0.5.1                    py36_1  \n",
      "werkzeug                  0.14.1                   py36_0  \n",
      "wheel                     0.33.1                   py36_0  \n",
      "widgetsnbextension        3.4.2                    py36_0  \n",
      "xz                        5.2.4                h14c3975_4  \n",
      "zeromq                    4.3.1                he6710b0_3  \n",
      "zlib                      1.2.11               h7b6447c_3  \n",
      "\n",
      "Note: you may need to restart the kernel to use updated packages.\n"
     ]
    }
   ],
   "source": [
    "conda list"
   ]
  },
  {
   "cell_type": "markdown",
   "metadata": {},
   "source": [
    "### numpy array"
   ]
  },
  {
   "cell_type": "code",
   "execution_count": 3,
   "metadata": {},
   "outputs": [],
   "source": [
    "a = np.array([\n",
    "    [2.1,3.1,3.9],\n",
    "    [3.2,4.5,3.1]\n",
    "])"
   ]
  },
  {
   "cell_type": "code",
   "execution_count": 4,
   "metadata": {},
   "outputs": [
    {
     "name": "stdout",
     "output_type": "stream",
     "text": [
      "[[2.1 3.1 3.9]\n",
      " [3.2 4.5 3.1]]\n",
      "(2, 3)\n"
     ]
    }
   ],
   "source": [
    "print(a)\n",
    "print(a.shape)"
   ]
  },
  {
   "cell_type": "code",
   "execution_count": 6,
   "metadata": {},
   "outputs": [
    {
     "data": {
      "text/plain": [
       "array([2.65, 3.8 , 3.5 ])"
      ]
     },
     "execution_count": 6,
     "metadata": {},
     "output_type": "execute_result"
    }
   ],
   "source": [
    "np.mean(a, axis = 0)"
   ]
  },
  {
   "cell_type": "code",
   "execution_count": 7,
   "metadata": {},
   "outputs": [
    {
     "data": {
      "text/plain": [
       "array([[5.1, 6.1, 6.9],\n",
       "       [6.2, 7.5, 6.1]])"
      ]
     },
     "execution_count": 7,
     "metadata": {},
     "output_type": "execute_result"
    }
   ],
   "source": [
    "a+3"
   ]
  },
  {
   "cell_type": "markdown",
   "metadata": {},
   "source": [
    "### tensorflow"
   ]
  },
  {
   "cell_type": "markdown",
   "metadata": {},
   "source": [
    "Data : 2차원 평면에 존재하는 점들  \n",
    "Feature : 가지고 있는 데이터를 '어떻게 표현하면 좋을까'를 나타내는 표현  \n",
    "Hidden layer : iteration이 돌수록 weight가 줄어듬  \n",
    "loss : training loss => 트레이닝셋으로부터 나온 loss, test loss => 테스트셋으로부터 나온 loss cf)둘이 비슷하면 좋다 (train loss < test loss)  \n",
    "epoch : 전체 트레이닝셋을 한 번 봤을 때 1 epoch cf)batch size는 보통 2진수로 둔다"
   ]
  },
  {
   "cell_type": "code",
   "execution_count": null,
   "metadata": {},
   "outputs": [],
   "source": []
  }
 ],
 "metadata": {
  "kernelspec": {
   "display_name": "Python 3",
   "language": "python",
   "name": "python3"
  },
  "language_info": {
   "codemirror_mode": {
    "name": "ipython",
    "version": 3
   },
   "file_extension": ".py",
   "mimetype": "text/x-python",
   "name": "python",
   "nbconvert_exporter": "python",
   "pygments_lexer": "ipython3",
   "version": "3.6.8"
  }
 },
 "nbformat": 4,
 "nbformat_minor": 2
}
