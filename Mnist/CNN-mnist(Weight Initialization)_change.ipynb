{
 "cells": [
  {
   "cell_type": "markdown",
   "metadata": {},
   "source": [
    "# MNIST"
   ]
  },
  {
   "cell_type": "markdown",
   "metadata": {},
   "source": [
    "### MNIST 데이터 받기"
   ]
  },
  {
   "cell_type": "code",
   "execution_count": 1,
   "metadata": {},
   "outputs": [],
   "source": [
    "import os\n",
    "import sys\n",
    "from six.moves import urllib\n",
    "import gzip\n",
    "import pickle\n",
    "import numpy as np\n",
    "\n",
    "%matplotlib inline\n",
    "import matplotlib.pyplot as plt\n",
    "\n",
    "\n",
    "SOURCE_URL = 'http://www.iro.umontreal.ca/~lisa/deep/data/mnist/mnist.pkl.gz'\n",
    "FILENAME = SOURCE_URL.split('/')[-1]\n",
    "DATA_DIR = './datasets'\n",
    "\n",
    "def maybe_download(data_dir):\n",
    "    filepath = os.path.join(data_dir, FILENAME)\n",
    "    if not os.path.exists(data_dir):\n",
    "        os.makedirs(data_dir)\n",
    "    if not os.path.isfile(filepath):\n",
    "        def _progress(count, block_size, total_size):\n",
    "            sys.stdout.write('\\r>> Downloading {} {:.1f} %'.format(\n",
    "                FILENAME, float(count * block_size) / float(total_size) * 100.0))\n",
    "            sys.stdout.flush()\n",
    "        filepath, _ = urllib.request.urlretrieve(SOURCE_URL, filepath, _progress)\n",
    "        print()\n",
    "        statinfo = os.stat(filepath)\n",
    "        print('Successfully donloaded', FILENAME, statinfo.st_size, 'bytes.')\n",
    "\n",
    "def load(data_dir, subset='train'):\n",
    "    maybe_download(data_dir)\n",
    "    filepath = os.path.join(data_dir, FILENAME)\n",
    "    \n",
    "    f = gzip.open(filepath, 'rb')\n",
    "    u = pickle._Unpickler(f)\n",
    "    u.encoding = 'latin1'\n",
    "    train_set, valid_set, test_set = u.load()\n",
    "    f.close()\n",
    "    \n",
    "    if subset == 'train':\n",
    "        trainx, trainy = train_set\n",
    "        trainx = trainx.astype(np.float32).reshape(trainx.shape[0], 28, 28)\n",
    "        trainy = trainy.astype(np.uint8)\n",
    "        return trainx, trainy\n",
    "    elif subset == 'test':\n",
    "        testx, testy = test_set\n",
    "        testx = testx.astype(np.float32).reshape(testx.shape[0], 28, 28)\n",
    "        testy = testy.astype(np.uint8)\n",
    "        return testx, testy\n",
    "    elif subset== 'valid':\n",
    "        validx, validy = valid_set\n",
    "        validx = validx.astype(np.float32).reshape(validx.shape[0], 28, 28)\n",
    "        validy = validy.astype(np.uint8)\n",
    "        return validx, validy\n",
    "    else:\n",
    "        raise NotImplementedError('subset should be train or valid or test')\n",
    "\n",
    "# Load data\n",
    "train_data, train_label = load(DATA_DIR, 'train')\n",
    "valid_data, valid_label = load(DATA_DIR, 'valid')\n",
    "test_data, test_label = load(DATA_DIR, 'test')\n",
    "\n",
    "# concatenate train and valid data as train data\n",
    "train_data = np.concatenate((train_data, valid_data))\n",
    "train_label = np.concatenate((train_label, valid_label))"
   ]
  },
  {
   "cell_type": "markdown",
   "metadata": {},
   "source": [
    "### MNIST 데이터 확인 하기"
   ]
  },
  {
   "cell_type": "code",
   "execution_count": 2,
   "metadata": {},
   "outputs": [
    {
     "name": "stdout",
     "output_type": "stream",
     "text": [
      "(60000, 28, 28)\n",
      "(60000,)\n",
      "(10000, 28, 28)\n",
      "(10000,)\n"
     ]
    }
   ],
   "source": [
    "# size of MNIST\n",
    "print(train_data.shape)\n",
    "print(train_label.shape)\n",
    "print(test_data.shape)\n",
    "print(test_label.shape)"
   ]
  },
  {
   "cell_type": "code",
   "execution_count": 3,
   "metadata": {},
   "outputs": [
    {
     "data": {
      "image/png": "[encoded data removed]",
      "text/plain": [
       "<Figure size 432x288 with 2 Axes>"
      ]
     },
     "metadata": {
      "needs_background": "light"
     },
     "output_type": "display_data"
    }
   ],
   "source": [
    "# show data\n",
    "_, (ax1, ax2) = plt.subplots(1, 2)\n",
    "sample_data = train_data[100]\n",
    "ax1.imshow(sample_data, cmap=plt.cm.Greys);\n",
    "ax2.hist(sample_data, bins=20, range=[0, 1]);"
   ]
  },
  {
   "cell_type": "code",
   "execution_count": 4,
   "metadata": {},
   "outputs": [],
   "source": [
    "import tensorflow as tf\n",
    "from tensorflow.nn import rnn_cell"
   ]
  },
  {
   "cell_type": "code",
   "execution_count": 5,
   "metadata": {},
   "outputs": [],
   "source": [
    "learning_rate = 1e-3\n",
    "num_epochs = 2\n",
    "batch_size = 100\n",
    "num_display = 100\n",
    "\n",
    "def RNN(X):\n",
    "    X = tf.unstack(X, num=28, axis=1) #쪼개짐\n",
    "    lstm = rnn_cell.LSTMCell(128, forget_bias=0.9) #lstmcell 생성 #forget_gate(스위치 1:켜짐~0:꺼짐)의 크기\n",
    "    outs = tf.nn.static_rnn(lstm, X, dtype=tf.float32)\n",
    "    #print(outs)\n",
    "    #print(len(outs))\n",
    "    outs=outs[0][-1]\n",
    "    return outs\n",
    "    \n",
    "def get_model(X, by):\n",
    "    #X = tf.expand_dims(X, axis=3) # (None, 28, 28, 1)\n",
    "    \n",
    "    outs = RNN(X)\n",
    "    #print(outs)\n",
    "    \n",
    "    #outs = tf.reshape(outs, (-1, outs.shape[1]*outs.shape[2]*outs.shape[3]))\n",
    "    outs = tf.layers.dense(outs, 256)\n",
    "    outs = tf.nn.relu(outs)\n",
    "    #outs=tf.layers.dropout(outs, rate=0.5) #dropout/ 0.5=>매순간마다 50%씩 버리겠다\n",
    "    outs = tf.layers.dense(outs, 10)\n",
    "    one_hot = tf.one_hot(by, 10)\n",
    "    \n",
    "    loss = tf.nn.softmax_cross_entropy_with_logits_v2(logits=outs, \n",
    "                                                      labels=one_hot)\n",
    "    loss = tf.reduce_mean(loss)\n",
    "    opt = tf.train.AdamOptimizer(learning_rate=learning_rate).minimize(loss)\n",
    "    \n",
    "    preds = tf.cast(tf.argmax(tf.nn.softmax(outs), axis=1), tf.int32)\n",
    "    acc = tf.reduce_mean(tf.cast(tf.equal(by, preds), tf.float32))\n",
    "#     saver = tf.train.Saver(tf.get_collection(tf.GraphKeys.GLOBAL_VARIABLES, 'second')\n",
    "#                           +tf.get_collection(tf.GraphKeys.GLOBAL_VARIABLES, 'third')\n",
    "#                           +tf.get_collection(tf.GraphKeys.GLOBAL_VARIABLES, 'dense')) #미리 학습해놓은 파라미터를 쓰고 싶을 때 # 그래프에서 전역변수 모여있는 것들 다 불러옴 \n",
    "    init = tf.global_variables_initializer()\n",
    "    return {\n",
    "        'loss': loss,\n",
    "        'opt': opt,\n",
    "        'preds': preds,\n",
    "        'acc': acc,\n",
    "        'init': init\n",
    "    }"
   ]
  },
  {
   "cell_type": "code",
   "execution_count": 6,
   "metadata": {},
   "outputs": [],
   "source": [
    "X = tf.placeholder(tf.float32, shape=(None, 28, 28))\n",
    "by = tf.placeholder(tf.int32)\n",
    "\n",
    "model = get_model(X, by)"
   ]
  },
  {
   "cell_type": "code",
   "execution_count": 7,
   "metadata": {
    "scrolled": true
   },
   "outputs": [
    {
     "name": "stdout",
     "output_type": "stream",
     "text": [
      "Current iteration 1\n",
      "loss 2.2978 acc 0.1000\n",
      "loss 0.8638 acc 0.6700\n",
      "loss 0.6157 acc 0.8200\n",
      "loss 0.3664 acc 0.8700\n",
      "loss 0.2904 acc 0.8800\n",
      "loss 0.2946 acc 0.9000\n",
      "Current iteration 2\n",
      "loss 0.1612 acc 0.9500\n",
      "loss 0.2965 acc 0.9200\n",
      "loss 0.2602 acc 0.9200\n",
      "loss 0.2086 acc 0.9200\n",
      "loss 0.1048 acc 0.9700\n",
      "loss 0.0744 acc 0.9600\n",
      "TEST: loss 0.1207 acc 0.9631\n"
     ]
    }
   ],
   "source": [
    "#model = get_model(X, by)\n",
    "with tf.Session() as sess:\n",
    "    sess.run(model['init'])\n",
    "    for ind_epoch in range(0, num_epochs):\n",
    "        print('Current iteration {}'.format(ind_epoch + 1))\n",
    "        \n",
    "        for ind_ in range(0, int(60000 / batch_size)):\n",
    "            batch_X = train_data[ind_*batch_size:(ind_+1)*batch_size]\n",
    "            batch_by = train_label[ind_*batch_size:(ind_+1)*batch_size]\n",
    "            _, cur_loss, cur_acc = sess.run(\n",
    "                [model['opt'], model['loss'], model['acc']],\n",
    "                feed_dict={X: batch_X, by: batch_by})\n",
    "            if ind_ % num_display == 0:\n",
    "                print('loss {0:.4f} acc {1:.4f}'.format(cur_loss, cur_acc))\n",
    "    cur_acc_all = 0.0\n",
    "    cur_loss_all = 0.0\n",
    "    for ind_ in range(0, 10):\n",
    "        cur_loss, cur_acc = sess.run(\n",
    "                    [model['loss'], model['acc']],\n",
    "                    feed_dict={X: test_data[ind_*1000:(ind_+1)*1000], \n",
    "                               by: test_label[ind_*1000:(ind_+1)*1000]})\n",
    "        cur_loss_all += cur_loss\n",
    "        cur_acc_all += cur_acc\n",
    "    print('TEST: loss {0:.4f} acc {1:.4f}'.format(cur_loss_all / 10.0, \n",
    "                                                  cur_acc_all / 10.0))"
   ]
  },
  {
   "cell_type": "code",
   "execution_count": 8,
   "metadata": {},
   "outputs": [],
   "source": [
    "# model = get_model(X, by, False) #처음 선언하는 거니깐 False\n",
    "# with tf.Session() as sess:\n",
    "#     sess.run(model['init'])\n",
    "#     for ind_epoch in range(0, num_epochs):\n",
    "#         print('Current iteration {}'.format(ind_epoch + 1))\n",
    "        \n",
    "#         for ind_ in range(0, int(60000 / batch_size)):\n",
    "#             batch_X = train_data[ind_*batch_size:(ind_+1)*batch_size]\n",
    "#             batch_by = train_label[ind_*batch_size:(ind_+1)*batch_size]\n",
    "#             _, cur_loss, cur_acc = sess.run(\n",
    "#                 [model['opt'], model['loss'], model['acc']],\n",
    "#                 feed_dict={X: batch_X, by: batch_by})\n",
    "#             if ind_ % num_display == 0:\n",
    "#                 print('loss {0:.4f} acc {1:.4f}'.format(cur_loss, cur_acc))\n",
    "#     model['saver'].save(sess,'./ours.ckpt')"
   ]
  },
  {
   "cell_type": "code",
   "execution_count": 9,
   "metadata": {},
   "outputs": [],
   "source": [
    "# model = get_model(X, by, True)\n",
    "# with tf.Session() as sess:\n",
    "#     sess.run(model['init']) #first는 저장을 하지 않았기 때문에 걔를 초기화\n",
    "#     model['saver'].restore(sess,'./ours.ckpt')\n",
    "#     cur_acc_all = 0.0\n",
    "#     cur_loss_all = 0.0\n",
    "#     for ind_ in range(0, 10):\n",
    "#         cur_loss, cur_acc = sess.run(\n",
    "#                     [model['loss'], model['acc']],\n",
    "#                     feed_dict={X: test_data[ind_*1000:(ind_+1)*1000], \n",
    "#                                by: test_label[ind_*1000:(ind_+1)*1000]})\n",
    "#         cur_loss_all += cur_loss\n",
    "#         cur_acc_all += cur_acc\n",
    "#     print('TEST: loss {0:.4f} acc {1:.4f}'.format(cur_loss_all / 10.0, \n",
    "#                                                   cur_acc_all / 10.0))\n",
    "\n",
    "# ##first는 학습을 하지 않아서 acc가 좀 낮게 나옴\n",
    "# ##기존에 있던 파라미터를 잘 골라서 저장하고 저장해놓은거를 불러와서 road하고 사용"
   ]
  },
  {
   "cell_type": "code",
   "execution_count": null,
   "metadata": {},
   "outputs": [],
   "source": []
  }
 ],
 "metadata": {
  "kernelspec": {
   "display_name": "Python 3",
   "language": "python",
   "name": "python3"
  },
  "language_info": {
   "codemirror_mode": {
    "name": "ipython",
    "version": 3
   },
   "file_extension": ".py",
   "mimetype": "text/x-python",
   "name": "python",
   "nbconvert_exporter": "python",
   "pygments_lexer": "ipython3",
   "version": "3.6.7"
  }
 },
 "nbformat": 4,
 "nbformat_minor": 2
}
